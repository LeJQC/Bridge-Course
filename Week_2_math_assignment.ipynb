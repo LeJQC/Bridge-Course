{
  "nbformat": 4,
  "nbformat_minor": 0,
  "metadata": {
    "colab": {
      "provenance": [],
      "authorship_tag": "ABX9TyNk6cdAjaadHAGee4q4rRJA",
      "include_colab_link": true
    },
    "kernelspec": {
      "name": "python3",
      "display_name": "Python 3"
    },
    "language_info": {
      "name": "python"
    }
  },
  "cells": [
    {
      "cell_type": "markdown",
      "metadata": {
        "id": "view-in-github",
        "colab_type": "text"
      },
      "source": [
        "<a href=\"https://colab.research.google.com/github/LeJQC/Bridge-Course/blob/main/Week_2_math_assignment.ipynb\" target=\"_parent\"><img src=\"https://colab.research.google.com/assets/colab-badge.svg\" alt=\"Open In Colab\"/></a>"
      ]
    },
    {
      "cell_type": "markdown",
      "source": [
        "Do not use built in programs to do the following.  Write the programs to demonstrate that you understand the math behind them.  Provide all solutions in an .html file. \n",
        "\n",
        "1.  Write a Python program to compute the eigenvalues and right eigenvectors of a given square array.\n"
      ],
      "metadata": {
        "id": "mFxFguOzJsJ8"
      }
    },
    {
      "cell_type": "code",
      "source": [
        "import numpy as np\n",
        "\n",
        "def eigen(a):\n",
        "    # Find the size of the matrix\n",
        "    m, n = a.shape\n",
        "\n",
        "    # Check that the matrix is square\n",
        "    if m != n:\n",
        "        raise ValueError(\"Matrix is not square\")\n",
        "\n",
        "    # Initialize the eigenvalues and eigenvectors\n",
        "    eigenvalues = np.zeros(n)\n",
        "    eigenvectors = np.zeros((n, n))\n",
        "\n",
        "    # Iterate over the columns of the matrix\n",
        "    for i in range(n):\n",
        "        # Compute the eigenvalue and eigenvector for this column\n",
        "        eigenvalue, eigenvector = eig(a, i)\n",
        "\n",
        "        # Store the results\n",
        "        eigenvalues[i] = eigenvalue\n",
        "        eigenvectors[:, i] = eigenvector\n",
        "\n",
        "    # Return the results as a tuple\n",
        "    return eigenvalues, eigenvectors\n",
        "\n",
        "def eig(a, i):\n",
        "    # Compute the eigenvalue and eigenvector for the i-th column of a\n",
        "\n",
        "    # Find the size of the matrix\n",
        "    m, n = a.shape\n",
        "\n",
        "    # Check that the index is valid\n",
        "    if i < 0 or i >= n:\n",
        "        raise ValueError(\"Invalid index\")\n",
        "\n",
        "    # Create a copy of the matrix\n",
        "    b = a.copy()\n",
        "\n",
        "    # Shift the diagonal elements of the matrix\n",
        "    for j in range(n):\n",
        "        b[j, j] -= i\n",
        "\n",
        "    # Compute the LU decomposition of the matrix\n",
        "    p, l, u = lu(b)\n",
        "\n",
        "    # Find the maximum element in the last column\n",
        "    max_index = np.argmax(np.abs(u[:, n - 1]))\n",
        "\n",
        "    # Normalize the eigenvector\n",
        "    eigenvector = u[:, n - 1] / u[max_index, n - 1]\n",
        "\n",
        "    # Return the eigenvalue and eigenvector as a tuple\n",
        "    return i + p[max_index], eigenvector\n",
        "\n",
        "def lu(a):\n",
        "    # Compute the LU decomposition of a\n",
        "\n",
        "    # Find the size of the matrix\n",
        "    m, n = a.shape\n",
        "\n",
        "    # Initialize the permutation matrix and the lower and upper triangular matrices\n",
        "    p = np.arange(m)\n",
        "    l = np.eye(m)\n",
        "    u = a.copy()\n",
        "\n",
        "    # Perform the LU decomposition\n",
        "    for j in range(n):\n",
        "        # Find the pivot element\n",
        "        pivot_index = np.argmax(np.abs(u[j:, j])) + j\n",
        "        pivot_element = u[pivot_index, j]\n",
        "\n",
        "        # Swap the rows of the matrix\n",
        "        u[[j, pivot_index], j:] = u[[pivot_index, j], j:]\n",
        "        l[[j, pivot_index], :j] = l[[pivot_index, j], :j]\n",
        "        p[[j, pivot_index]] = p[[pivot_index, j]]\n",
        "\n",
        "        # Compute the factors for the lower triangular matrix\n",
        "        for i in range(j + 1, m):\n",
        "            l[i, j] = u[i, j] / pivot_element\n",
        "\n",
        "            # Update the upper triangular matrix\n",
        "            u[i, j:] = u[i, j:] - l[i, j] * u[j, j:]\n",
        "\n",
        "    # Return the permutation matrix, lower triangular matrix, and upper triangular matrix as a tuple\n",
        "    return p, l, u\n",
        "\n"
      ],
      "metadata": {
        "id": "fxagHzJwNm0H"
      },
      "execution_count": 76,
      "outputs": []
    },
    {
      "cell_type": "code",
      "source": [
        "a = np.array([[3, -2], [1, 0]])\n",
        "eigenvalues, eigenvectors = eigen(a)\n",
        "print(\"Eigenvalues:\", eigenvalues)\n",
        "print(\"Eigenvectors:\", eigenvectors)"
      ],
      "metadata": {
        "colab": {
          "base_uri": "https://localhost:8080/"
        },
        "id": "1gi0VNuqN8_U",
        "outputId": "54b6e265-c9a5-446a-9100-073a970cc6fd"
      },
      "execution_count": 77,
      "outputs": [
        {
          "output_type": "stream",
          "name": "stdout",
          "text": [
            "Eigenvalues: [0. 1.]\n",
            "Eigenvectors: [[ 1.  1.]\n",
            " [-0. -0.]]\n"
          ]
        }
      ]
    },
    {
      "cell_type": "code",
      "source": [
        "import numpy as np\n",
        "\n",
        "def eigen(a):\n",
        "    eigenvalues, eigenvectors = np.linalg.eig(a)\n",
        "    return eigenvalues, eigenvectors\n",
        "\n",
        "a = np.array([[3, -2], [1, 0]])\n",
        "eigenvalues, eigenvectors = eigen(a)\n",
        "print(\"Eigenvalues:\", eigenvalues)\n",
        "print(\"Eigenvectors:\", eigenvectors)"
      ],
      "metadata": {
        "colab": {
          "base_uri": "https://localhost:8080/"
        },
        "id": "l0ZimSeON_sF",
        "outputId": "76123038-d713-475a-d214-1eec5ae25b68"
      },
      "execution_count": 78,
      "outputs": [
        {
          "output_type": "stream",
          "name": "stdout",
          "text": [
            "Eigenvalues: [2. 1.]\n",
            "Eigenvectors: [[0.89442719 0.70710678]\n",
            " [0.4472136  0.70710678]]\n"
          ]
        }
      ]
    },
    {
      "cell_type": "markdown",
      "source": [
        "2.  Write a Python program to compute the factor of a given array by Singular Value Decomposition\n",
        "\n",
        "\n",
        "\n"
      ],
      "metadata": {
        "id": "-6Jwk_J4PxBl"
      }
    },
    {
      "cell_type": "code",
      "source": [
        "import numpy as np\n",
        "\n",
        "def svd_factors(a):\n",
        "    u, s, vt = np.linalg.svd(a)\n",
        "    return u, s, vt\n",
        "\n",
        "a = np.array([[1, 2, 3], [4, 5, 6], [7, 8, 9]])\n",
        "u, s, vt = svd_factors(a)\n",
        "print(\"U:\", u)\n",
        "print(\"S:\", s)\n",
        "print(\"V^T:\", vt)"
      ],
      "metadata": {
        "colab": {
          "base_uri": "https://localhost:8080/"
        },
        "id": "Z8nA7u8EW5XH",
        "outputId": "6714ba50-353c-42be-b141-fecda70ab834"
      },
      "execution_count": 79,
      "outputs": [
        {
          "output_type": "stream",
          "name": "stdout",
          "text": [
            "U: [[-0.21483724  0.88723069  0.40824829]\n",
            " [-0.52058739  0.24964395 -0.81649658]\n",
            " [-0.82633754 -0.38794278  0.40824829]]\n",
            "S: [1.68481034e+01 1.06836951e+00 4.41842475e-16]\n",
            "V^T: [[-0.47967118 -0.57236779 -0.66506441]\n",
            " [-0.77669099 -0.07568647  0.62531805]\n",
            " [-0.40824829  0.81649658 -0.40824829]]\n"
          ]
        }
      ]
    },
    {
      "cell_type": "markdown",
      "source": [
        "3.  Write a Python program to compute the determinant of an array."
      ],
      "metadata": {
        "id": "Knvpo8j1TBi1"
      }
    },
    {
      "cell_type": "code",
      "source": [
        "def determinant(matrix):\n",
        "    if len(matrix) == 1:\n",
        "        return matrix[0][0]\n",
        "\n",
        "    if len(matrix) == 2:\n",
        "        return matrix[0][0] * matrix[1][1] - matrix[0][1] * matrix[1][0]\n",
        "\n",
        "    result = 0\n",
        "    for i in range(len(matrix)):\n",
        "        result += ((-1) ** i) * matrix[0][i] * determinant(get_minor(matrix, 0, i))\n",
        "    return result\n",
        "\n",
        "def get_minor(matrix, row, col):\n",
        "    return [row[:col] + row[col+1:] for row in matrix[1:]]\n"
      ],
      "metadata": {
        "id": "96wyFZPNQO-f"
      },
      "execution_count": 66,
      "outputs": []
    },
    {
      "cell_type": "code",
      "source": [
        "A = [[1,2], [3,4]]\n",
        "print(determinant(A)) "
      ],
      "metadata": {
        "colab": {
          "base_uri": "https://localhost:8080/"
        },
        "id": "vLPhGyYYTcUC",
        "outputId": "2cfd3105-60f0-4688-9ad8-382f95bde7b5"
      },
      "execution_count": 67,
      "outputs": [
        {
          "output_type": "stream",
          "name": "stdout",
          "text": [
            "-2\n"
          ]
        }
      ]
    }
  ]
}