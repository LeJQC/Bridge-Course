{
  "nbformat": 4,
  "nbformat_minor": 0,
  "metadata": {
    "colab": {
      "provenance": [],
      "toc_visible": true,
      "authorship_tag": "ABX9TyOCQdPEBIOk2qCkLl5v3zYm",
      "include_colab_link": true
    },
    "kernelspec": {
      "name": "python3",
      "display_name": "Python 3"
    },
    "language_info": {
      "name": "python"
    }
  },
  "cells": [
    {
      "cell_type": "markdown",
      "metadata": {
        "id": "view-in-github",
        "colab_type": "text"
      },
      "source": [
        "<a href=\"https://colab.research.google.com/github/LeJQC/Bridge-Course/blob/main/Week_1_math_assignment.ipynb\" target=\"_parent\"><img src=\"https://colab.research.google.com/assets/colab-badge.svg\" alt=\"Open In Colab\"/></a>"
      ]
    },
    {
      "cell_type": "markdown",
      "source": [
        "Chapter 1.  Programming Challenge 1 page 22, Even-Odd Vending Machine\n",
        "\n"
      ],
      "metadata": {
        "id": "7_l2tQBE3182"
      }
    },
    {
      "cell_type": "code",
      "source": [
        "def evenodd(nums):\n",
        "    if nums % 2 == 0:\n",
        "      print(\"This is an even number\")\n",
        "    else:\n",
        "      print(\"This is an odd number\")\n",
        "    for x in range(0,9):\n",
        "      nums += 2\n",
        "      print(nums)\n",
        "\n",
        "print(\"Pick an interger: \")\n",
        "number = input()\n",
        "\n",
        "try:\n",
        "  if float(number).is_integer:\n",
        "    evenodd(int(number))\n",
        "except:\n",
        "  print(\"You did not enter an interger\")"
      ],
      "metadata": {
        "id": "LuSzpC_n37sH",
        "colab": {
          "base_uri": "https://localhost:8080/"
        },
        "outputId": "b6b2ae2e-3ce8-4e62-e612-b5cc6b97922c"
      },
      "execution_count": null,
      "outputs": [
        {
          "output_type": "stream",
          "name": "stdout",
          "text": [
            "Pick an interger: \n",
            "8\n",
            "This is an even number\n",
            "10\n",
            "12\n",
            "14\n",
            "16\n",
            "18\n",
            "20\n",
            "22\n",
            "24\n",
            "26\n"
          ]
        }
      ]
    },
    {
      "cell_type": "markdown",
      "source": [
        "Chapter 2.  Programming Challenge 2 page 55, Exploring a Quadratic Function Visually"
      ],
      "metadata": {
        "id": "iOIz8n8sSj_3"
      }
    },
    {
      "cell_type": "code",
      "source": [
        "import matplotlib.pyplot as plt\n",
        "\n",
        "def graph(x,y):\n",
        "  plt.plot(x,y)\n",
        "  plt.show()\n",
        "\n",
        "x_values = range(-10, 10, 2)\n",
        "y_values = []\n",
        "\n",
        "for x in x_values:\n",
        "  y_values.append(x**2 + 2*x + 1)\n",
        "  print(f'x= {x}, y= {y_values[-1]}')\n",
        "  \n",
        "graph(x_values, y_values)"
      ],
      "metadata": {
        "colab": {
          "base_uri": "https://localhost:8080/",
          "height": 439
        },
        "id": "AKHYipRnRchU",
        "outputId": "4e367aab-a9ea-4d2e-9203-0ae36880ec13"
      },
      "execution_count": null,
      "outputs": [
        {
          "output_type": "stream",
          "name": "stdout",
          "text": [
            "x= -10, y= 81\n",
            "x= -8, y= 49\n",
            "x= -6, y= 25\n",
            "x= -4, y= 9\n",
            "x= -2, y= 1\n",
            "x= 0, y= 1\n",
            "x= 2, y= 9\n",
            "x= 4, y= 25\n",
            "x= 6, y= 49\n",
            "x= 8, y= 81\n"
          ]
        },
        {
          "output_type": "display_data",
          "data": {
            "text/plain": [
              "<Figure size 432x288 with 1 Axes>"
            ],
            "image/png": "[encoded data removed]"
          },
          "metadata": {
            "needs_background": "light"
          }
        }
      ]
    },
    {
      "cell_type": "markdown",
      "source": [
        "Chapter 3.  Programming Challenge 2 page 89, Statistics Calculator\n",
        "\n"
      ],
      "metadata": {
        "id": "hjrQHRR1VzUv"
      }
    },
    {
      "cell_type": "code",
      "source": [
        "# I was having trouble importing the stats module I created to colab so I just typed it out"
      ],
      "metadata": {
        "id": "8qLF1JnYwg2P"
      },
      "execution_count": null,
      "outputs": []
    },
    {
      "cell_type": "markdown",
      "source": [
        "Calculating the MEAN"
      ],
      "metadata": {
        "id": "cY0fDfJ_byi7"
      }
    },
    {
      "cell_type": "code",
      "source": [
        "def calculate_mean(numbers): \n",
        "  s = sum(numbers)\n",
        "  N = len(numbers)\n",
        "  #Calculate the mean\n",
        "  mean = s/N\n",
        "  return mean"
      ],
      "metadata": {
        "id": "tMrm_WTGb3sw"
      },
      "execution_count": null,
      "outputs": []
    },
    {
      "cell_type": "markdown",
      "source": [
        "Calculating the MEDIAN"
      ],
      "metadata": {
        "id": "EOGHh2MFcRfg"
      }
    },
    {
      "cell_type": "code",
      "source": [
        "def calculate_median(numbers):\n",
        "  N = len(numbers)\n",
        "  numbers.sort()\n",
        "\n",
        "  #Find the Median\n",
        "  if N % 2 == 0:\n",
        "    m1 = N/2\n",
        "    m2 = (N/2) + 1\n",
        "    m1 = int(m1) - 1\n",
        "    m2 = int(m2) - 1\n",
        "    median = (numbers[m1] + numbers[m2])/2\n",
        "  else:\n",
        "    m = (N+1)/2\n",
        "    m = int(m) - 1\n",
        "    median = numbers[m]\n",
        "  return median\n"
      ],
      "metadata": {
        "id": "bgYad8r8cX3V"
      },
      "execution_count": null,
      "outputs": []
    },
    {
      "cell_type": "markdown",
      "source": [
        "Calculating the MODE\n"
      ],
      "metadata": {
        "id": "xB5oFtt2hbGS"
      }
    },
    {
      "cell_type": "code",
      "source": [
        "from collections import Counter\n",
        "def calculate_mode(numbers):\n",
        "  c = Counter(numbers)\n",
        "  numbers_freq = c.most_common()\n",
        "  max_count = numbers_freq[0][1]\n",
        "  \n",
        "  modes = []\n",
        "  for num in numbers_freq:\n",
        "    if num[1] == max_count:\n",
        "      modes.append(num[0])\n",
        "  return modes"
      ],
      "metadata": {
        "id": "C32HgQRbhjp1"
      },
      "execution_count": null,
      "outputs": []
    },
    {
      "cell_type": "markdown",
      "source": [
        "Calculating the VARIANCE and STANDARD DEVIATION"
      ],
      "metadata": {
        "id": "GFPRsScjrZXb"
      }
    },
    {
      "cell_type": "code",
      "source": [
        "def find_differences(numbers):\n",
        "  mean = calculate_mean(numbers)\n",
        "  diff = []\n",
        "  for num in numbers:\n",
        "    diff.append(num-mean)\n",
        "  return diff\n",
        "\n",
        "def calculate_variance(numbers):\n",
        "  diff = find_differences(numbers)\n",
        "  squared_diff = []\n",
        "  for d in diff:\n",
        "    squared_diff.append(d**2)\n",
        "  sum_squared_diff = sum(squared_diff)\n",
        "  variance = sum_squared_diff/len(numbers)\n",
        "  return variance"
      ],
      "metadata": {
        "id": "UYnc3A4drf2A"
      },
      "execution_count": null,
      "outputs": []
    },
    {
      "cell_type": "code",
      "source": [
        "std = variance**0.5\n",
        "std"
      ],
      "metadata": {
        "id": "Gl1_4uGPs5Ui",
        "outputId": "895bde19-9e1f-4378-e19e-f404e2f5be17",
        "colab": {
          "base_uri": "https://localhost:8080/"
        }
      },
      "execution_count": null,
      "outputs": [
        {
          "output_type": "execute_result",
          "data": {
            "text/plain": [
              "375.5627166887931"
            ]
          },
          "metadata": {},
          "execution_count": 75
        }
      ]
    },
    {
      "cell_type": "code",
      "source": [
        "def read_data(filename):\n",
        "  numbers = []\n",
        "  with open(filename) as f:\n",
        "    for line in f:\n",
        "      numbers.append(float(line))\n",
        "  return numbers\n",
        "\n",
        "data = read_data(\"mydata.txt\")"
      ],
      "metadata": {
        "id": "Jt3mLBC0ueli"
      },
      "execution_count": null,
      "outputs": []
    },
    {
      "cell_type": "code",
      "source": [
        "data"
      ],
      "metadata": {
        "colab": {
          "base_uri": "https://localhost:8080/"
        },
        "id": "cVXOhET0w-Sy",
        "outputId": "eb33e9d5-745d-436b-f3d1-1dbc33d1df0f"
      },
      "execution_count": null,
      "outputs": [
        {
          "output_type": "execute_result",
          "data": {
            "text/plain": [
              "[60.0,\n",
              " 70.0,\n",
              " 100.0,\n",
              " 100.0,\n",
              " 200.0,\n",
              " 500.0,\n",
              " 500.0,\n",
              " 503.0,\n",
              " 600.0,\n",
              " 900.0,\n",
              " 1000.0,\n",
              " 1200.0]"
            ]
          },
          "metadata": {},
          "execution_count": 82
        }
      ]
    },
    {
      "cell_type": "code",
      "source": [
        "calculate_mean(data)"
      ],
      "metadata": {
        "colab": {
          "base_uri": "https://localhost:8080/"
        },
        "id": "UmbZVxA3vtYu",
        "outputId": "71afd0d4-ac8e-480c-c24a-57d6af82ba5f"
      },
      "execution_count": null,
      "outputs": [
        {
          "output_type": "execute_result",
          "data": {
            "text/plain": [
              "477.75"
            ]
          },
          "metadata": {},
          "execution_count": 77
        }
      ]
    },
    {
      "cell_type": "code",
      "source": [
        "calculate_median(data)"
      ],
      "metadata": {
        "colab": {
          "base_uri": "https://localhost:8080/"
        },
        "id": "9IZ5v6OQvxCp",
        "outputId": "a6c6f135-6579-4799-c9a1-094503725bd8"
      },
      "execution_count": null,
      "outputs": [
        {
          "output_type": "execute_result",
          "data": {
            "text/plain": [
              "500.0"
            ]
          },
          "metadata": {},
          "execution_count": 78
        }
      ]
    },
    {
      "cell_type": "code",
      "source": [
        "calculate_mode(data)"
      ],
      "metadata": {
        "colab": {
          "base_uri": "https://localhost:8080/"
        },
        "id": "dl9inU0dv0lW",
        "outputId": "ab71dbeb-edd0-42e5-ab11-0082d3e19a59"
      },
      "execution_count": null,
      "outputs": [
        {
          "output_type": "execute_result",
          "data": {
            "text/plain": [
              "[100.0, 500.0]"
            ]
          },
          "metadata": {},
          "execution_count": 79
        }
      ]
    },
    {
      "cell_type": "code",
      "source": [
        "calculate_variance(data)"
      ],
      "metadata": {
        "colab": {
          "base_uri": "https://localhost:8080/"
        },
        "id": "spu3_SHmwCRs",
        "outputId": "f3bdbe43-c416-483d-bb78-959efbc6d416"
      },
      "execution_count": null,
      "outputs": [
        {
          "output_type": "execute_result",
          "data": {
            "text/plain": [
              "141047.35416666666"
            ]
          },
          "metadata": {},
          "execution_count": 80
        }
      ]
    },
    {
      "cell_type": "code",
      "source": [
        "std"
      ],
      "metadata": {
        "colab": {
          "base_uri": "https://localhost:8080/"
        },
        "id": "qatpV5RuwGQn",
        "outputId": "4507bc4a-cc20-4b38-b994-20e703e4aea2"
      },
      "execution_count": null,
      "outputs": [
        {
          "output_type": "execute_result",
          "data": {
            "text/plain": [
              "375.5627166887931"
            ]
          },
          "metadata": {},
          "execution_count": 81
        }
      ]
    },
    {
      "cell_type": "markdown",
      "source": [
        "Chapter 4.  Programming Challenge 4 page 117, Solving Single-Variable Inequalities\n",
        "\n"
      ],
      "metadata": {
        "id": "P0ZAauBcxNSn"
      }
    },
    {
      "cell_type": "code",
      "source": [
        " For this challenge, create a function, isolve(), that will take any inequality, solve it, and then return the solution."
      ],
      "metadata": {
        "id": "xfW_VlroxOmJ"
      },
      "execution_count": null,
      "outputs": []
    },
    {
      "cell_type": "code",
      "source": [
        "from sympy import Symbol, sympify, SympifyError\n",
        "from sympy import solve_poly_inequality, solve_rational_inequalities\n",
        "from sympy import solve_univariate_inequality, Poly\n",
        "from sympy.core.relational import Relational, Equality\n",
        "\n",
        "def isolve(ineq_obj):\n",
        "  x = Symbol('x')\n",
        "  expr = ineq_obj.lhs\n",
        "  rel = ineq_obj.rel_op\n",
        "\n",
        "  if expr.is_polynomial():\n",
        "    p = Poly(expr, x)\n",
        "    return solve_poly_inequality(p, rel)\n",
        "  elif expr.is_rational_function():\n",
        "    p1, p2 = expr.as_numer_denom()\n",
        "    num = Poly(p1)\n",
        "    denom = Poly(p2)\n",
        "    return solve_rational_inequalities([[((num, denom), rel)]])\n",
        "  else:\n",
        "    return solve_univariate_inequality(ineq_obj, x, relational = False)\n",
        "\n",
        "ineq = input(\"Enter an inequality: \") \n",
        "try: \n",
        "  ineq_obj = sympify(ineq)\n",
        "except SympifyError:\n",
        "  print('Not an inequality')\n",
        "else:\n",
        "  if isinstance(ineq_obj, Relational) and not isinstance(ineq_obj, Equality):\n",
        "    print(isolve(ineq_obj))\n",
        "  else:\n",
        "    print('Not an inequality')"
      ],
      "metadata": {
        "colab": {
          "base_uri": "https://localhost:8080/"
        },
        "id": "p2B5gNotrBlP",
        "outputId": "268ccab8-fcda-4e23-f57b-88bbaa160b13"
      },
      "execution_count": null,
      "outputs": [
        {
          "output_type": "stream",
          "name": "stdout",
          "text": [
            "Enter an inequality: x**2 + 4*x + 4 > 0\n",
            "[Interval.open(-oo, -2), Interval.open(-2, oo)]\n"
          ]
        }
      ]
    },
    {
      "cell_type": "markdown",
      "source": [
        "Chapter 5.  Programming Challenge 2 page 143, Law of Large Numbers\n",
        "\n"
      ],
      "metadata": {
        "id": "XdxfzHBlyian"
      }
    },
    {
      "cell_type": "code",
      "source": [
        "import random\n",
        "\n",
        "def roll(tries):\n",
        "  rolls = []\n",
        "  for t in range(tries):\n",
        "    rolls.append(random.randint(1,6))\n",
        "  return sum(rolls)/tries\n",
        "\n",
        "expected_value = 3.5\n",
        "print(\"Expected value: 3.5\")\n",
        "total = [100, 1000, 10000, 100000, 500000]\n",
        "for trials in total:\n",
        "  average = roll(trials)\n",
        "  print(f\"Trials: {trials} Trial average:{average}\")\n"
      ],
      "metadata": {
        "colab": {
          "base_uri": "https://localhost:8080/"
        },
        "id": "SRstjqadziOI",
        "outputId": "5661a891-1c2c-4cac-c3ae-a9a89fb39de0"
      },
      "execution_count": null,
      "outputs": [
        {
          "output_type": "stream",
          "name": "stdout",
          "text": [
            "Expected value: 3.5\n",
            "Trials: 100 Trial average:3.57\n",
            "Trials: 1000 Trial average:3.52\n",
            "Trials: 10000 Trial average:3.5209\n",
            "Trials: 100000 Trial average:3.49871\n",
            "Trials: 500000 Trial average:3.50093\n"
          ]
        }
      ]
    },
    {
      "cell_type": "markdown",
      "source": [
        "Chapter 7.  Programming Challenge 2 page 205, Implement the Gradient Descent\n",
        "\n"
      ],
      "metadata": {
        "id": "z4qopTGe1FpA"
      }
    },
    {
      "cell_type": "code",
      "source": [
        "from sympy import Derivative, Symbol, sympify, solve\n",
        "import matplotlib.pyplot as plt\n",
        "import math"
      ],
      "metadata": {
        "id": "ybRkd8R_8hNj"
      },
      "execution_count": 1,
      "outputs": []
    },
    {
      "cell_type": "code",
      "source": [
        "def grad_descent(x0, f1x, x):\n",
        "  if not solve(f1x):\n",
        "    print(\"Solution does not exist\")\n",
        "    return none\n",
        "  epsilon = 1e-6\n",
        "  step_size = 1e-4\n",
        "  x_old = x0\n",
        "  x_new = x_old - step_size * f1x.subs({x:x_old}).evalf()\n",
        "\n",
        "  x_traversed = []\n",
        "  while abs(x_old - x_new) > epsilon:\n",
        "    x_traversed.append(x_new)\n",
        "    x_old = x_new\n",
        "    x_new = x_old - step_size * f1x.subs({x:x_old}).evalf()\n",
        "  return x_new, x_traversed\n",
        "\n",
        "def frange(start, final, interval):\n",
        "  numbers = []\n",
        "  while start < final:\n",
        "    numbers.append(start)\n",
        "    start = start + interval\n",
        "  return numbers\n",
        "  \n",
        "def create_plot(X_traversed, f, var):\n",
        "  x_val = frange(-1, 1, 0.01)\n",
        "  f_val = [f.subs({var:x}) for x in x_val]\n",
        "  plt.plot(x_val, f_val, 'bo')\n",
        "  f_traversed = [f.subs({var:x}) for x in X_traversed]\n",
        "  plt.plot(X_traversed, f_traversed, 'r.')\n",
        "  plt.legend(['Function', 'Intermediate points'], loc='best')\n",
        "  plt.show()\n",
        "\n",
        "f = input('Enter a function in one variable: ')\n",
        "var = input('Enter the variable to differentiate with respect to: ')\n",
        "var0 = float(input('Enter the initial value of the variable: '))\n",
        "try:\n",
        "  f = sympify(f)\n",
        "except SympifyError:\n",
        "  print('Invalid function entered')\n",
        "else:\n",
        "  var = Symbol(var)\n",
        "  d = Derivative(f, var).doit()\n",
        "  var_min, X_traversed = grad_descent(var0, d, var)\n",
        "  if var_min:\n",
        "    print('{0}: {1}'.format(var.name, var_min))\n",
        "    print('Minimum value: {0}'.format(f.subs({var:var_min})))\n",
        "  create_plot(X_traversed, f, var)"
      ],
      "metadata": {
        "colab": {
          "base_uri": "https://localhost:8080/",
          "height": 352
        },
        "id": "fyPozDEZ8jBn",
        "outputId": "29808e43-33f7-4c26-cb6a-2e3e4b493f9d"
      },
      "execution_count": 3,
      "outputs": [
        {
          "output_type": "stream",
          "name": "stdout",
          "text": [
            "Enter a function in one variable: 25*25*sin(2*theta)/9.8\n",
            "Enter the variable to differentiate with respect to: theta\n",
            "Enter the initial value of the variable: 0.001\n",
            "theta: -0.785360851298204\n",
            "Minimum value: -63.7755100265060\n"
          ]
        },
        {
          "output_type": "display_data",
          "data": {
            "text/plain": [
              "<Figure size 432x288 with 1 Axes>"
            ],
            "image/png": "[encoded data removed]"
          },
          "metadata": {
            "needs_background": "light"
          }
        }
      ]
    },
    {
      "cell_type": "code",
      "source": [
        "%%shell\n",
        "jupyter nbconvert --to html /content/Week_1_math_assignment.ipynb"
      ],
      "metadata": {
        "colab": {
          "base_uri": "https://localhost:8080/"
        },
        "id": "GJ_bkWHcGbS2",
        "outputId": "15a4f72c-5727-4a32-cbf3-d7767bce79ea"
      },
      "execution_count": 4,
      "outputs": [
        {
          "output_type": "stream",
          "name": "stdout",
          "text": [
            "[NbConvertApp] Converting notebook /content/Week_1_math_assignment.ipynb to html\n",
            "[NbConvertApp] Writing 341958 bytes to /content/Week_1_math_assignment.html\n"
          ]
        },
        {
          "output_type": "execute_result",
          "data": {
            "text/plain": []
          },
          "metadata": {},
          "execution_count": 4
        }
      ]
    }
  ]
}