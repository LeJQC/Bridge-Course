{
  "nbformat": 4,
  "nbformat_minor": 0,
  "metadata": {
    "colab": {
      "provenance": [],
      "authorship_tag": "ABX9TyO3PaAVOGLaTgMkMRkPYDfo",
      "include_colab_link": true
    },
    "kernelspec": {
      "name": "python3",
      "display_name": "Python 3"
    },
    "language_info": {
      "name": "python"
    }
  },
  "cells": [
    {
      "cell_type": "markdown",
      "metadata": {
        "id": "view-in-github",
        "colab_type": "text"
      },
      "source": [
        "<a href=\"https://colab.research.google.com/github/LeJQC/Bridge-Course/blob/main/Week_3_Math_assignment.ipynb\" target=\"_parent\"><img src=\"https://colab.research.google.com/assets/colab-badge.svg\" alt=\"Open In Colab\"/></a>"
      ]
    },
    {
      "cell_type": "markdown",
      "source": [
        "1. \tThe weights of steers in a herd are distributed normally.  The variance is 40,000 and the mean steer weight is 1300 lbs.  Find the probability that the weight of a randomly selected steer is greater than 979 lbs. (Round your answer to 4 decimal places)"
      ],
      "metadata": {
        "id": "1KVFQbk9X9E6"
      }
    },
    {
      "cell_type": "code",
      "source": [
        "import math\n",
        "\n",
        "mean = 1300\n",
        "variance = 40000\n",
        "stddev = math.sqrt(variance)\n",
        "x = 979\n",
        "\n",
        "z = (x - mean) / stddev\n",
        "prob = 1 - 0.5 * (1 + math.erf(z / math.sqrt(2)))\n",
        "print(f\"The probability that the weight of a randomly selected steer is greater than 979 lbs is {prob:.4f}.\")"
      ],
      "metadata": {
        "colab": {
          "base_uri": "https://localhost:8080/"
        },
        "id": "oPGp-L-rYz8q",
        "outputId": "9e62d2b2-8da8-402d-d8df-2c219e25f395"
      },
      "execution_count": null,
      "outputs": [
        {
          "output_type": "stream",
          "name": "stdout",
          "text": [
            "The probability that the weight of a randomly selected steer is greater than 979 lbs is 0.9458.\n"
          ]
        }
      ]
    },
    {
      "cell_type": "markdown",
      "source": [
        "\n",
        "2. \tSVGA monitors manufactured by TSI Electronics have life spans that have a normal distribution with a variance of 1,960,000 and a mean life span of 11,000 hours.  If a SVGA monitor is selected at random, find the probability that the life span of the monitor will be more than 8340 hours. (Round your answer to 4 decimal places)\n"
      ],
      "metadata": {
        "id": "ANY65-ZBYDXs"
      }
    },
    {
      "cell_type": "code",
      "source": [
        "mean = 11000\n",
        "variance = 1960000\n",
        "stddev = math.sqrt(variance)\n",
        "x = 8340\n",
        "\n",
        "z = (x - mean) / stddev\n",
        "prob = 1 - 0.5 * (1 + math.erf(z / math.sqrt(2)))\n",
        "print(f\"The probability that the life span of a randomly selected SVGA monitor is more than 8340 hours is {prob:.4f}.\")"
      ],
      "metadata": {
        "colab": {
          "base_uri": "https://localhost:8080/"
        },
        "id": "C5bFEgEXY5M_",
        "outputId": "f93322f5-7eb7-4acf-e47b-fec9a884cadd"
      },
      "execution_count": null,
      "outputs": [
        {
          "output_type": "stream",
          "name": "stdout",
          "text": [
            "The probability that the life span of a randomly selected SVGA monitor is more than 8340 hours is 0.9713.\n"
          ]
        }
      ]
    },
    {
      "cell_type": "markdown",
      "source": [
        "3. \tSuppose the mean income of firms in the industry for a year is 80 million dollars with a standard deviation of 3 million dollars.  If incomes for the industry are distributed normally, what is the probability that a randomly selected firm will earn between 83 and 85 million dollars? (Round your answer to 4 decimal places)"
      ],
      "metadata": {
        "id": "YrLfVMzcYFVE"
      }
    },
    {
      "cell_type": "code",
      "source": [
        "mean = 80\n",
        "stddev = 3\n",
        "x1 = 83\n",
        "x2 = 85\n",
        "\n",
        "z1 = (x1 - mean) / stddev\n",
        "prob1 = 0.5 * (1 + math.erf(z1 / math.sqrt(2)))\n",
        "\n",
        "z2 = (x2 - mean) / stddev\n",
        "prob2 = 0.5 * (1 + math.erf(z2 / math.sqrt(2)))\n",
        "\n",
        "prob = prob2 - prob1\n",
        "print(f\"The probability that a randomly selected firm will earn between 83 and 85 million dollars is {prob:.4f}.\")"
      ],
      "metadata": {
        "colab": {
          "base_uri": "https://localhost:8080/"
        },
        "id": "d4QLdAPhY6dB",
        "outputId": "b8c7f860-c24e-4604-835f-d245a44dfaaf"
      },
      "execution_count": null,
      "outputs": [
        {
          "output_type": "stream",
          "name": "stdout",
          "text": [
            "The probability that a randomly selected firm will earn between 83 and 85 million dollars is 0.1109.\n"
          ]
        }
      ]
    },
    {
      "cell_type": "markdown",
      "source": [
        "4. \tSuppose GRE Verbal scores are normally distributed with a mean of 456 and a standard deviation of 123.  A university plans to offer tutoring jobs to students whose scores are in the top 14%.  What is the minimum score required for the job offer?  Round your answer to the nearest whole number, if necessary."
      ],
      "metadata": {
        "id": "cbdlZG6DYGTO"
      }
    },
    {
      "cell_type": "code",
      "source": [
        "mean = 456\n",
        "stddev = 123\n",
        "\n",
        "z = 1.4\n",
        "x = (z * stddev) + mean\n",
        "print(f\"The minimum score required for a tutoring job at the university is {x:.0f}.\")"
      ],
      "metadata": {
        "colab": {
          "base_uri": "https://localhost:8080/"
        },
        "id": "u1yXh2eTY9PG",
        "outputId": "ca15da1e-74ad-4579-8297-479df4edc18c"
      },
      "execution_count": null,
      "outputs": [
        {
          "output_type": "stream",
          "name": "stdout",
          "text": [
            "The minimum score required for a tutoring job at the university is 628.\n"
          ]
        }
      ]
    },
    {
      "cell_type": "markdown",
      "source": [
        "5. \tThe lengths of nails produced in a factory are normally distributed with a mean of 6.13 centimeters and a standard deviation of 0.06 centimeters.  Find the two lengths that separate the top 7% and the bottom 7%.  These lengths could serve as limits used to identify which nails should be rejected.  Round your answer to the nearest hundredth, if necessary."
      ],
      "metadata": {
        "id": "hFb61eaHYHAj"
      }
    },
    {
      "cell_type": "code",
      "source": [
        "mean = 6.13\n",
        "stddev = 0.06\n",
        "\n",
        "z1 = -1.04\n",
        "x1 = (z1 * stddev) + mean\n",
        "\n",
        "z2 = 1.04\n",
        "x2 = (z2 * stddev) + mean\n",
        "\n",
        "print(f\"The lengths that separate the top 7% and the bottom 7% are {x1:.2f} cm and {x2:.2f} cm.\")"
      ],
      "metadata": {
        "colab": {
          "base_uri": "https://localhost:8080/"
        },
        "id": "MhrUTFWHY_zX",
        "outputId": "7c5dbc18-3dd8-4dc2-c65d-d3e11c4a8869"
      },
      "execution_count": null,
      "outputs": [
        {
          "output_type": "stream",
          "name": "stdout",
          "text": [
            "The lengths that separate the top 7% and the bottom 7% are 6.07 cm and 6.19 cm.\n"
          ]
        }
      ]
    },
    {
      "cell_type": "markdown",
      "source": [
        "\n",
        "6. \tAn English professor assigns letter grades on a test according to the following scheme.\n",
        "\tA:  Top 13% of scores\n",
        "\tB:  Scores below the top 13% and above the bottom 55%\n",
        "\tC:  Scores below the top 45% and above the bottom 20%\n",
        "\tD:  Scores below the top 80% and above the bottom 9%\n",
        "\tF:  Bottom 9% of scores\n",
        "\tScores on the test are normally distributed with a mean of 78.8 and a standard deviation of 9.8.  Find the numerical limits for a C grade.  Round your answers to the nearest whole number, if necessary.\n"
      ],
      "metadata": {
        "id": "E9KNI9ShYIEI"
      }
    },
    {
      "cell_type": "code",
      "source": [
        "mean = 78.8\n",
        "stddev = 9.8\n",
        "\n",
        "z1 = -1.04\n",
        "x1 = (z1 * stddev) + mean\n",
        "\n",
        "z2 = 1.04\n",
        "x2 = (z2 * stddev) + mean\n",
        "\n",
        "print(f\"The numerical limits for a C grade are {x1:.0f} and {x2:.0f}.\")"
      ],
      "metadata": {
        "colab": {
          "base_uri": "https://localhost:8080/"
        },
        "id": "_v0-RdRgZBa9",
        "outputId": "e934d082-4bd6-43db-a67b-5f554cf19a16"
      },
      "execution_count": null,
      "outputs": [
        {
          "output_type": "stream",
          "name": "stdout",
          "text": [
            "The numerical limits for a C grade are 69 and 89.\n"
          ]
        }
      ]
    },
    {
      "cell_type": "markdown",
      "source": [
        "7. \tSuppose ACT Composite scores are normally distributed with a mean of 21.2 and a standard deviation of 5.4.  A university plans to admit students whose scores are in the top 45%.  What is the minimum score required for admission?  Round your answer to the nearest tenth, if necessary."
      ],
      "metadata": {
        "id": "X7ABpTMUYJbh"
      }
    },
    {
      "cell_type": "code",
      "source": [
        "mean = 21.2\n",
        "stddev = 5.4\n",
        "\n",
        "z = 1.04\n",
        "x = (z * stddev) + mean\n",
        "print(f\"The minimum score required for admission is {x:.1f}.\")"
      ],
      "metadata": {
        "colab": {
          "base_uri": "https://localhost:8080/"
        },
        "id": "cPAgPFi3ZlL8",
        "outputId": "dbaa2d0f-6d00-480b-9a38-69d3227636df"
      },
      "execution_count": null,
      "outputs": [
        {
          "output_type": "stream",
          "name": "stdout",
          "text": [
            "The minimum score required for admission is 26.8.\n"
          ]
        }
      ]
    },
    {
      "cell_type": "markdown",
      "source": [
        "8. \tConsider the probability that less than 11 out of 151 students will not graduate on time.  Assume the probability that a given student will not graduate on time is 9%.  Approximate the probability using the normal distribution. (Round your answer to 4 decimal places.)"
      ],
      "metadata": {
        "id": "PqtLWHszYK6M"
      }
    },
    {
      "cell_type": "code",
      "source": [
        "mean = 151 * 0.09\n",
        "stddev = math.sqrt(151 * 0.09 * 0.91)\n",
        "x = 11\n",
        "\n",
        "z = (x - mean) / stddev\n",
        "prob = 1 - 0.5 * (1 + math.erf(z / math.sqrt(2)))\n",
        "print(f\"The probability that less than 11 out of 151 students will not graduate on time is {prob:.4f}.\")"
      ],
      "metadata": {
        "colab": {
          "base_uri": "https://localhost:8080/"
        },
        "id": "i_n5UeoBZmsA",
        "outputId": "9022e5ff-b43e-4c86-b79d-96255a256891"
      },
      "execution_count": null,
      "outputs": [
        {
          "output_type": "stream",
          "name": "stdout",
          "text": [
            "The probability that less than 11 out of 151 students will not graduate on time is 0.7693.\n"
          ]
        }
      ]
    },
    {
      "cell_type": "markdown",
      "source": [
        "9. \tThe mean lifetime of a tire is 48 months with a standard deviation of 7.  If 147 tires are sampled, what is the probability that the mean of the sample would be greater than 48.83 months? (Round your answer to 4 decimal places)"
      ],
      "metadata": {
        "id": "75IhUctTYLoE"
      }
    },
    {
      "cell_type": "code",
      "source": [
        "mean = 48\n",
        "stddev = 7 / math.sqrt(147)\n",
        "x = 48.83\n",
        "\n",
        "z = (x - mean) / stddev\n",
        "prob = 1 - 0.5 * (1 + math.erf(z / math.sqrt(2)))\n",
        "print(f\"The probability that the mean of the sample of 147 tires would be greater than 48.83 months is {prob:.4f}.\")"
      ],
      "metadata": {
        "colab": {
          "base_uri": "https://localhost:8080/"
        },
        "id": "M2dgqsnPZooN",
        "outputId": "92292bcd-25d0-48e2-a82e-8033bae5d415"
      },
      "execution_count": null,
      "outputs": [
        {
          "output_type": "stream",
          "name": "stdout",
          "text": [
            "The probability that the mean of the sample of 147 tires would be greater than 48.83 months is 0.0753.\n"
          ]
        }
      ]
    },
    {
      "cell_type": "markdown",
      "source": [
        "10. \tThe quality control manager at a computer manufacturing company believes that the mean life of a computer is 91 months, with a standard deviation of 10.  If he is correct, what is the probability that the mean of a sample of 68 computers would be greater than 93.54 months? (Round your answer to 4 decimal places)"
      ],
      "metadata": {
        "id": "fQVAlW8jYMVO"
      }
    },
    {
      "cell_type": "code",
      "source": [
        "mean = 91\n",
        "stddev = 10 / math.sqrt(68)\n",
        "x = 93.54\n",
        "\n",
        "z = (x - mean) / stddev\n",
        "prob = 1 - 0.5 * (1 + math.erf(z / math.sqrt(2)))\n",
        "print(f\"The probability that the mean of a sample of 68 computers would be greater than 93.54 months is {prob:.4f}.\")"
      ],
      "metadata": {
        "colab": {
          "base_uri": "https://localhost:8080/"
        },
        "id": "pXmpGflUZtA2",
        "outputId": "a867f9e9-79a9-4979-c890-9ea3f83fd714"
      },
      "execution_count": null,
      "outputs": [
        {
          "output_type": "stream",
          "name": "stdout",
          "text": [
            "The probability that the mean of a sample of 68 computers would be greater than 93.54 months is 0.0181.\n"
          ]
        }
      ]
    },
    {
      "cell_type": "markdown",
      "source": [
        "11. \tA director of reservations believes that 7% of the ticketed passengers are no-shows.  If the director is right, what is the probability that the proportion of no-shows in a sample of 540 ticketed passengers would differ from the population proportion by less than 3%? (Round your answer to 4 decimal places)"
      ],
      "metadata": {
        "id": "ByMPCmZRYOSU"
      }
    },
    {
      "cell_type": "code",
      "source": [
        "mean = 540 * 0.07\n",
        "stddev = math.sqrt(540 * 0.07 * 0.93)\n",
        "x = 540 * 0.04\n",
        "\n",
        "z = (x - mean) / stddev\n",
        "prob = 1 - 0.5 * (1 + math.erf(z / math.sqrt(2)))\n",
        "print(f\"The probability that the proportion of no-shows in a sample of 540 ticketed passengers would differ from the population proportion by less than 3% is {prob:.4f}.\")"
      ],
      "metadata": {
        "colab": {
          "base_uri": "https://localhost:8080/"
        },
        "id": "Xosml-AIZvxb",
        "outputId": "69e76417-6842-4818-8849-2c0958143d0d"
      },
      "execution_count": null,
      "outputs": [
        {
          "output_type": "stream",
          "name": "stdout",
          "text": [
            "The probability that the proportion of no-shows in a sample of 540 ticketed passengers would differ from the population proportion by less than 3% is 0.9969.\n"
          ]
        }
      ]
    },
    {
      "cell_type": "markdown",
      "source": [
        "12. \tA bottle maker believes that 23% of his bottles are defective.  If the bottle maker is accurate, what is the probability that the proportion of defective bottles in a sample of 602 bottles would differ from the population proportion by greater than 4%? (Round your answer to 4 decimal places)"
      ],
      "metadata": {
        "id": "KBR9p0FcYO2o"
      }
    },
    {
      "cell_type": "code",
      "source": [
        "mean = 602 * 0.23\n",
        "stddev = math.sqrt(602 * 0.23 * 0.77)\n",
        "x = 602 * 0.27\n",
        "\n",
        "z = (x - mean) / stddev\n",
        "prob = 1 - 0.5 * (1 + math.erf(z / math.sqrt(2)))\n",
        "print(f\"The probability that the proportion of defective bottles in a sample of 602 bottles would differ from the population proportion by greater than 4% is {prob:.4f}.\")"
      ],
      "metadata": {
        "colab": {
          "base_uri": "https://localhost:8080/"
        },
        "id": "xch3JMYFZ3tv",
        "outputId": "74635137-d330-42d2-ef61-90562e42b8d8"
      },
      "execution_count": null,
      "outputs": [
        {
          "output_type": "stream",
          "name": "stdout",
          "text": [
            "The probability that the proportion of defective bottles in a sample of 602 bottles would differ from the population proportion by greater than 4% is 0.0098.\n"
          ]
        }
      ]
    },
    {
      "cell_type": "markdown",
      "source": [
        "13. \tA research company desires to know the mean consumption of beef per week among males over age 48.  Suppose a sample of size 208 is drawn with x ̅  = 3.9.  Assume ® = 0.8 .  Construct the 80% confidence interval for the mean number of lb. of beef per week among males over 48. (Round your answers to 1 decimal place) \n",
        "\n",
        "\n",
        "\n",
        "\n",
        "\n",
        "\n"
      ],
      "metadata": {
        "id": "vDorNHz_YRQw"
      }
    },
    {
      "cell_type": "code",
      "source": [
        "mean = 3.9\n",
        "stddev = 0.8\n",
        "n = 208\n",
        "\n",
        "z = 1.282\n",
        "ci = (mean - z * stddev / math.sqrt(n), mean + z * stddev / math.sqrt(n))\n",
        "print(f\"The 80% confidence interval for the mean number of lb. of beef per week among males over 48 is {ci[0]:.1f} to {ci[1]:.1f}.\")"
      ],
      "metadata": {
        "colab": {
          "base_uri": "https://localhost:8080/"
        },
        "id": "jHu76cjEaJpQ",
        "outputId": "93541b29-9c70-4a74-857c-c6d5543d3164"
      },
      "execution_count": null,
      "outputs": [
        {
          "output_type": "stream",
          "name": "stdout",
          "text": [
            "The 80% confidence interval for the mean number of lb. of beef per week among males over 48 is 3.8 to 4.0.\n"
          ]
        }
      ]
    },
    {
      "cell_type": "markdown",
      "source": [
        "14. \tAn economist wants to estimate the mean per capita income (in thousands of dollars) in a major city in California.  Suppose a sample of size 7472 is drawn with x ̅  = 16.6.  Assume ® = 11 .  Construct the 98% confidence interval for the mean per capita income. (Round your answers to 1 decimal place) "
      ],
      "metadata": {
        "id": "4QAcMB3fYT8s"
      }
    },
    {
      "cell_type": "code",
      "source": [
        "mean = 16.6\n",
        "stddev = 11\n",
        "n = 7472\n",
        "\n",
        "z = 2.576\n",
        "ci = (mean - z * stddev / math.sqrt(n), mean + z * stddev / math.sqrt(n))\n",
        "print(f\"The 98% confidence interval for the mean per capita income is {ci[0]:.1f} to {ci[1]:.1f}.\")"
      ],
      "metadata": {
        "colab": {
          "base_uri": "https://localhost:8080/"
        },
        "id": "LqZzMEb_aRkM",
        "outputId": "6b4f840e-7da2-47af-9e0e-0316eb09c0b4"
      },
      "execution_count": null,
      "outputs": [
        {
          "output_type": "stream",
          "name": "stdout",
          "text": [
            "The 98% confidence interval for the mean per capita income is 16.3 to 16.9.\n"
          ]
        }
      ]
    },
    {
      "cell_type": "markdown",
      "source": [
        "15. \tFind the value of t such that 0.05 of the area under the curve is to the left of t.  Assume the degrees of freedom equals 26."
      ],
      "metadata": {
        "id": "Exg_Y8y9aaFZ"
      }
    },
    {
      "cell_type": "markdown",
      "source": [
        "![Capture.PNG](data:image/png;base64,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)"
      ],
      "metadata": {
        "id": "oBrButTvvWhT"
      }
    },
    {
      "cell_type": "code",
      "source": [
        "from scipy.stats import t\n",
        "\n",
        "t_value = t.ppf(0.05, 26)\n",
        "print(t_value)"
      ],
      "metadata": {
        "colab": {
          "base_uri": "https://localhost:8080/"
        },
        "id": "PxvJp0bEvmnG",
        "outputId": "44739a12-847a-46bd-9d4e-4a126bbd519f"
      },
      "execution_count": null,
      "outputs": [
        {
          "output_type": "stream",
          "name": "stdout",
          "text": [
            "-1.7056179197592731\n"
          ]
        }
      ]
    },
    {
      "cell_type": "markdown",
      "source": [
        "\n",
        "16. \tThe following measurements ( in picocuries per liter ) were recorded by a set of helium gas detectors installed in a laboratory facility:  \n",
        "\t                                             383.6, 347.1, 371.9, 347.6, 325.8, 337\n",
        "\tUsing these measurements, construct a 90% confidence interval for the mean level of helium gas present in the facility.  Assume the population is normally distributed.  \n",
        "\n",
        "Step 1. Calculate the sample mean for the given sample data. (Round answer to 2 decimal places) \n",
        "\n",
        "\n",
        "Step 2. Calculate the sample standard deviation for the given sample data. (Round answer to 2 decimal places) \n",
        "\n",
        "\n",
        "Step 3. Find the critical value that should be used in constructing the confidence interval. (Round answer to 3 decimal places) \n",
        "\n",
        "\n",
        "Step 4. Construct the 90% confidence interval. (Round answer to 2 decimal places)\n"
      ],
      "metadata": {
        "id": "bIHvc7LbacQz"
      }
    },
    {
      "cell_type": "code",
      "source": [
        "measurements = [383.6, 347.1, 371.9, 347.6, 325.8, 337]\n",
        "\n",
        "mean = np.mean(measurements)\n",
        "print(\"Sample mean:\", mean)\n",
        "\n",
        "std = np.std(measurements, ddof=1)\n",
        "print(\"Sample standard deviation:\", std)\n",
        "\n",
        "n = len(measurements)\n",
        "critical_value = 1.83\n",
        "\n",
        "interval = (mean - critical_value * (std / np.sqrt(n)), mean + critical_value * (std / np.sqrt(n)))\n",
        "print(\"90% confidence interval:\", interval)\n"
      ],
      "metadata": {
        "colab": {
          "base_uri": "https://localhost:8080/"
        },
        "id": "xt0zdqgmxGTZ",
        "outputId": "69a1cbd7-b299-4b7e-83ee-d9e814506f68"
      },
      "execution_count": null,
      "outputs": [
        {
          "output_type": "stream",
          "name": "stdout",
          "text": [
            "Sample mean: 352.1666666666667\n",
            "Sample standard deviation: 21.675854462204402\n",
            "90% confidence interval: (335.97275779944135, 368.360575533892)\n"
          ]
        }
      ]
    },
    {
      "cell_type": "markdown",
      "source": [
        "17. \tA random sample of 16 fields of spring wheat has a mean yield of 46.4 bushels per acre and standard deviation of 2.45 bushels per acre.  Determine the 80% confidence interval for the true mean yield.  Assume the population is normally distributed.  \n",
        "\n",
        "Step 1. Find the critical value that should be used in constructing the confidence interval. (Round answer to 3 decimal places) \n",
        "\n",
        "\n",
        "Step 2. Construct the 80% confidence interval. (Round answer to 1 decimal place)\n"
      ],
      "metadata": {
        "id": "bE1Z0u17aca0"
      }
    },
    {
      "cell_type": "code",
      "source": [
        "mean = 46.4\n",
        "std = 2.45\n",
        "n = 16\n",
        "confidence_level = 0.8\n",
        "\n",
        "critical_value = 1.746\n",
        "\n",
        "interval = (mean - critical_value * (std / np.sqrt(n)), mean + critical_value * (std / np.sqrt(n)))\n",
        "print(\"{}% confidence interval:\".format(confidence_level*100), interval)"
      ],
      "metadata": {
        "colab": {
          "base_uri": "https://localhost:8080/"
        },
        "id": "A3kMHtOwyqRD",
        "outputId": "982c3c47-0a0f-484c-e0a3-b61f99cd1ac3"
      },
      "execution_count": null,
      "outputs": [
        {
          "output_type": "stream",
          "name": "stdout",
          "text": [
            "80.0% confidence interval: (45.330574999999996, 47.469425)\n"
          ]
        }
      ]
    },
    {
      "cell_type": "markdown",
      "source": [
        "18. \tA toy manufacturer wants to know how many new toys children buy each year.  She thinks the mean is 8 toys per year.  Assume a previous study found the standard deviation to be 1.9.  How large of a sample would be required in order to estimate the mean number of toys bought per child at the 99% confidence level with an error of at most 0.13 toys? (Round your answer up to the next integer)"
      ],
      "metadata": {
        "id": "SeKK5JaNaciU"
      }
    },
    {
      "cell_type": "code",
      "source": [
        "std = 1.9\n",
        "error = 0.13\n",
        "confidence_level = 0.99\n",
        "\n",
        "critical_value = 2.58\n",
        "\n",
        "sample_size = (critical_value * std / error)**2\n",
        "print(\"Sample size:\", np.ceil(sample_size))"
      ],
      "metadata": {
        "colab": {
          "base_uri": "https://localhost:8080/"
        },
        "id": "AdT6-fHT0PVT",
        "outputId": "09e18956-6f71-4a34-81a3-d7d3cc0d97f0"
      },
      "execution_count": null,
      "outputs": [
        {
          "output_type": "stream",
          "name": "stdout",
          "text": [
            "Sample size: 1422.0\n"
          ]
        }
      ]
    },
    {
      "cell_type": "markdown",
      "source": [
        "19. \tA research scientist wants to know how many times per hour a certain strand of bacteria reproduces.  He believes that the mean is 12.6.  Assume the variance is known to be 3.61.  How large of a sample would be required in order to estimate the mean number of reproductions per hour at the 95% confidence level with an error of at most 0.19 reproductions? (Round your answer up to the next integer)"
      ],
      "metadata": {
        "id": "BsrfclJsacof"
      }
    },
    {
      "cell_type": "code",
      "source": [
        "variance = 3.61\n",
        "error = 0.19\n",
        "confidence_level = 0.95\n",
        "\n",
        "critical_value = 1.96\n",
        "\n",
        "sample_size = (critical_value * np.sqrt(variance) / error)**2\n",
        "print(\"Sample size:\", np.ceil(sample_size))"
      ],
      "metadata": {
        "colab": {
          "base_uri": "https://localhost:8080/"
        },
        "id": "1UNMRFSS0ehE",
        "outputId": "da3d2ab9-9af3-4872-f9de-7d018313b96a"
      },
      "execution_count": null,
      "outputs": [
        {
          "output_type": "stream",
          "name": "stdout",
          "text": [
            "Sample size: 385.0\n"
          ]
        }
      ]
    },
    {
      "cell_type": "markdown",
      "source": [
        "20. \tThe state education commission wants to estimate the fraction of tenth grade students that have reading skills at or below the eighth grade level.\n",
        "\n",
        "Step 1. Suppose a sample of 2089 tenth graders is drawn. Of the students sampled, 1734 read above the eighth grade level.  Using the data, estimate the proportion of tenth graders reading at or below the eighth grade level. (Write your answer as a fraction or a decimal number rounded to 3 decimal places) \n",
        "\n",
        "\n",
        "Step 2. Suppose a sample of 2089 tenth graders is drawn.  Of the students sampled, 1734 read above the eighth grade level.  Using the data, construct the 98% confidence interval for the population proportion of tenth graders reading at or below the eighth grade level. (Round your answers to 3 decimal places)\n"
      ],
      "metadata": {
        "id": "0R2NQuD1akI4"
      }
    },
    {
      "cell_type": "code",
      "source": [
        "students_above_grade_level = 1734\n",
        "sample_size = 2089\n",
        "confidence_level = 0.98\n",
        "\n",
        "proportion = 1 - (students_above_grade_level / sample_size)\n",
        "print(\"Proportion:\", proportion)\n",
        "\n",
        "critical_value = 2.05\n",
        "\n",
        "interval = (proportion - critical_value * np.sqrt((proportion * (1 - proportion)) / sample_size), proportion + critical_value * np.sqrt((proportion * (1 - proportion)) / sample_size))\n",
        "print(\"{}% confidence interval:\".format(confidence_level*100), interval)"
      ],
      "metadata": {
        "colab": {
          "base_uri": "https://localhost:8080/"
        },
        "id": "KvThCu0B1O0m",
        "outputId": "8ded4b64-a2a1-4b3f-e0ae-eb392c95ae70"
      },
      "execution_count": null,
      "outputs": [
        {
          "output_type": "stream",
          "name": "stdout",
          "text": [
            "Proportion: 0.1699377692675922\n",
            "98.0% confidence interval: (0.15309222977513734, 0.18678330876004703)\n"
          ]
        }
      ]
    },
    {
      "cell_type": "markdown",
      "source": [
        "21. \tAn environmentalist wants to find out the fraction of oil tankers that have spills each month.\n",
        "\n",
        "Step 1. Suppose a sample of 474 tankers is drawn.  Of these ships, 156 had spills.  Using the data, estimate the proportion of oil tankers that had spills. (Write your answer as a fraction or a decimal number rounded to 3 decimal places) \n",
        " \n",
        "Step 2. Suppose a sample of 474 tankers is drawn.  Of these ships, 156 had spills.  Using the data, construct the 95% confidence interval for the population proportion of oil tankers that have spills each month. (Round your answers to 3 decimal places)\n"
      ],
      "metadata": {
        "id": "MpRurJemanGb"
      }
    },
    {
      "cell_type": "code",
      "source": [
        "spills = 156\n",
        "sample_size = 474\n",
        "confidence_level = 0.95\n",
        "\n",
        "proportion = spills / sample_size\n",
        "print(\"Proportion:\", proportion)\n",
        "\n",
        "critical_value = 1.96\n",
        "\n",
        "interval = (proportion - critical_value * np.sqrt((proportion * (1 - proportion)) / sample_size), proportion + critical_value * np.sqrt((proportion * (1 - proportion)) / sample_size))\n",
        "print(\"{}% confidence interval:\".format(confidence_level*100), interval)"
      ],
      "metadata": {
        "colab": {
          "base_uri": "https://localhost:8080/"
        },
        "id": "-cIq-lv1aqCB",
        "outputId": "50baa994-fb37-4644-9df9-26a124609954"
      },
      "execution_count": null,
      "outputs": [
        {
          "output_type": "stream",
          "name": "stdout",
          "text": [
            "Proportion: 0.3291139240506329\n",
            "95.0% confidence interval: (0.28681158146910357, 0.3714162666321622)\n"
          ]
        }
      ]
    }
  ]
}